{
 "cells": [
  {
   "cell_type": "code",
   "execution_count": 1,
   "metadata": {},
   "outputs": [],
   "source": [
    "def tracer(func):\n",
    "    \"\"\"decorator that print evey time that finction was call\"\"\"\n",
    "    count = 0  # number of times the function was called\n",
    "\n",
    "    def print_func(*args, **kwargs):\n",
    "        \"\"\"print function name and arguments\"\"\"\n",
    "        nonlocal count  # nonlocal variable\n",
    "        # print the function name and arguments if any,\n",
    "        # with indentation based on the call depth\n",
    "        kw_str = ', '.join(f'{k}={v}' for k, v in kwargs.items())\n",
    "        if len(args) == 1:\n",
    "            print('  ' * count + f\"{func.__name__}(\", *args, ') ', kw_str, sep='')\n",
    "        else:\n",
    "            print('  ' * count + f\"{func.__name__}{args} {kw_str}\")\n",
    "        count += 1  # increment the call depth\n",
    "        result = func(*args, **kwargs)  # call the function\n",
    "        print('  ' * (count-1), result, sep='')  # print the result\n",
    "        count -= 1  # decrement the call depth\n",
    "        return result\n",
    "    return print_func"
   ]
  },
  {
   "cell_type": "code",
   "execution_count": 3,
   "metadata": {},
   "outputs": [],
   "source": [
    "@tracer\n",
    "def gcd(a, b):\n",
    "    if a > b:\n",
    "        return gcd(b, a)\n",
    "    if a == b:\n",
    "        return a\n",
    "    return gcd(a, b-a)"
   ]
  },
  {
   "cell_type": "code",
   "execution_count": 4,
   "metadata": {},
   "outputs": [
    {
     "name": "stdout",
     "output_type": "stream",
     "text": [
      "gcd(100, 130) \n",
      "  gcd(100, 30) \n",
      "    gcd(30, 100) \n",
      "      gcd(30, 70) \n",
      "        gcd(30, 40) \n",
      "          gcd(30, 10) \n",
      "            gcd(10, 30) \n",
      "              gcd(10, 20) \n",
      "                gcd(10, 10) \n",
      "                10\n",
      "              10\n",
      "            10\n",
      "          10\n",
      "        10\n",
      "      10\n",
      "    10\n",
      "  10\n",
      "10\n"
     ]
    },
    {
     "data": {
      "text/plain": [
       "10"
      ]
     },
     "execution_count": 4,
     "metadata": {},
     "output_type": "execute_result"
    }
   ],
   "source": [
    "gcd(100, 130)"
   ]
  },
  {
   "cell_type": "code",
   "execution_count": null,
   "metadata": {},
   "outputs": [],
   "source": []
  }
 ],
 "metadata": {
  "interpreter": {
   "hash": "a0a5145e6c304e2a9afaf5b930a2955b950bd4b81fe94f7c42930f43f42762eb"
  },
  "kernelspec": {
   "display_name": "Python 3.10.1 64-bit",
   "language": "python",
   "name": "python3"
  },
  "language_info": {
   "codemirror_mode": {
    "name": "ipython",
    "version": 3
   },
   "file_extension": ".py",
   "mimetype": "text/x-python",
   "name": "python",
   "nbconvert_exporter": "python",
   "pygments_lexer": "ipython3",
   "version": "3.10.2"
  },
  "orig_nbformat": 4
 },
 "nbformat": 4,
 "nbformat_minor": 2
}
