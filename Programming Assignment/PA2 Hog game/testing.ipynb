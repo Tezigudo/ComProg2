{
 "cells": [
  {
   "cell_type": "code",
   "execution_count": 4,
   "metadata": {},
   "outputs": [],
   "source": [
    "import hog"
   ]
  },
  {
   "cell_type": "code",
   "execution_count": 1,
   "metadata": {},
   "outputs": [
    {
     "name": "stdout",
     "output_type": "stream",
     "text": [
      "Max scoring num rolls for six-sided dice: 6\n",
      "always_roll(6) win rate: 0.504\n",
      "piggypoints_strategy win rate: 0.481\n",
      "more_boar_strategy win rate: 0.5395\n"
     ]
    },
    {
     "ename": "AssertionError",
     "evalue": "num_rolls must be an integer.",
     "output_type": "error",
     "traceback": [
      "\u001b[0;31m---------------------------------------------------------------------------\u001b[0m",
      "\u001b[0;31mAssertionError\u001b[0m                            Traceback (most recent call last)",
      "\u001b[0;32m/var/folders/1h/93wslqxj7kz5qnq_szkpw2nc0000gn/T/ipykernel_35917/556404917.py\u001b[0m in \u001b[0;36m<module>\u001b[0;34m\u001b[0m\n\u001b[0;32m----> 1\u001b[0;31m \u001b[0;32mfrom\u001b[0m \u001b[0mhog\u001b[0m \u001b[0;32mimport\u001b[0m \u001b[0;34m*\u001b[0m\u001b[0;34m\u001b[0m\u001b[0;34m\u001b[0m\u001b[0m\n\u001b[0m",
      "\u001b[0;32m~/Desktop/MyFolder/Programming/Python/Project/Project_university/Y1S2/hog-Tezigudo/hog.py\u001b[0m in \u001b[0;36m<module>\u001b[0;34m\u001b[0m\n\u001b[1;32m    368\u001b[0m         \u001b[0mrun_experiments\u001b[0m\u001b[0;34m(\u001b[0m\u001b[0;34m)\u001b[0m\u001b[0;34m\u001b[0m\u001b[0;34m\u001b[0m\u001b[0m\n\u001b[1;32m    369\u001b[0m \u001b[0;34m\u001b[0m\u001b[0m\n\u001b[0;32m--> 370\u001b[0;31m \u001b[0mrun_experiments\u001b[0m\u001b[0;34m(\u001b[0m\u001b[0;34m)\u001b[0m\u001b[0;34m\u001b[0m\u001b[0;34m\u001b[0m\u001b[0m\n\u001b[0m",
      "\u001b[0;32m~/Desktop/MyFolder/Programming/Python/Project/Project_university/Y1S2/hog-Tezigudo/hog.py\u001b[0m in \u001b[0;36mrun_experiments\u001b[0;34m()\u001b[0m\n\u001b[1;32m    309\u001b[0m     \u001b[0mprint\u001b[0m\u001b[0;34m(\u001b[0m\u001b[0;34m'piggypoints_strategy win rate:'\u001b[0m\u001b[0;34m,\u001b[0m \u001b[0maverage_win_rate\u001b[0m\u001b[0;34m(\u001b[0m\u001b[0mpiggypoints_strategy\u001b[0m\u001b[0;34m)\u001b[0m\u001b[0;34m)\u001b[0m\u001b[0;34m\u001b[0m\u001b[0;34m\u001b[0m\u001b[0m\n\u001b[1;32m    310\u001b[0m     \u001b[0mprint\u001b[0m\u001b[0;34m(\u001b[0m\u001b[0;34m'more_boar_strategy win rate:'\u001b[0m\u001b[0;34m,\u001b[0m \u001b[0maverage_win_rate\u001b[0m\u001b[0;34m(\u001b[0m\u001b[0mmore_boar_strategy\u001b[0m\u001b[0;34m)\u001b[0m\u001b[0;34m)\u001b[0m\u001b[0;34m\u001b[0m\u001b[0;34m\u001b[0m\u001b[0m\n\u001b[0;32m--> 311\u001b[0;31m     \u001b[0mprint\u001b[0m\u001b[0;34m(\u001b[0m\u001b[0;34m'final_strategy win rate:'\u001b[0m\u001b[0;34m,\u001b[0m \u001b[0maverage_win_rate\u001b[0m\u001b[0;34m(\u001b[0m\u001b[0mfinal_strategy\u001b[0m\u001b[0;34m)\u001b[0m\u001b[0;34m)\u001b[0m\u001b[0;34m\u001b[0m\u001b[0;34m\u001b[0m\u001b[0m\n\u001b[0m\u001b[1;32m    312\u001b[0m \u001b[0;34m\u001b[0m\u001b[0m\n\u001b[1;32m    313\u001b[0m \u001b[0;34m\u001b[0m\u001b[0m\n",
      "\u001b[0;32m~/Desktop/MyFolder/Programming/Python/Project/Project_university/Y1S2/hog-Tezigudo/hog.py\u001b[0m in \u001b[0;36maverage_win_rate\u001b[0;34m(strategy, baseline)\u001b[0m\n\u001b[1;32m    294\u001b[0m     \u001b[0mwinrate\u001b[0m \u001b[0mwhen\u001b[0m \u001b[0mstarting\u001b[0m \u001b[0mthe\u001b[0m \u001b[0mgame\u001b[0m \u001b[0;32mas\u001b[0m \u001b[0mplayer\u001b[0m \u001b[0;36m0\u001b[0m \u001b[0;32mand\u001b[0m \u001b[0;32mas\u001b[0m \u001b[0mplayer\u001b[0m \u001b[0;36m1.\u001b[0m\u001b[0;34m\u001b[0m\u001b[0;34m\u001b[0m\u001b[0m\n\u001b[1;32m    295\u001b[0m     \"\"\"\n\u001b[0;32m--> 296\u001b[0;31m     \u001b[0mwin_rate_as_player_0\u001b[0m \u001b[0;34m=\u001b[0m \u001b[0;36m1\u001b[0m \u001b[0;34m-\u001b[0m \u001b[0mmake_averaged\u001b[0m\u001b[0;34m(\u001b[0m\u001b[0mwinner\u001b[0m\u001b[0;34m)\u001b[0m\u001b[0;34m(\u001b[0m\u001b[0mstrategy\u001b[0m\u001b[0;34m,\u001b[0m \u001b[0mbaseline\u001b[0m\u001b[0;34m)\u001b[0m\u001b[0;34m\u001b[0m\u001b[0;34m\u001b[0m\u001b[0m\n\u001b[0m\u001b[1;32m    297\u001b[0m     \u001b[0mwin_rate_as_player_1\u001b[0m \u001b[0;34m=\u001b[0m \u001b[0mmake_averaged\u001b[0m\u001b[0;34m(\u001b[0m\u001b[0mwinner\u001b[0m\u001b[0;34m)\u001b[0m\u001b[0;34m(\u001b[0m\u001b[0mbaseline\u001b[0m\u001b[0;34m,\u001b[0m \u001b[0mstrategy\u001b[0m\u001b[0;34m)\u001b[0m\u001b[0;34m\u001b[0m\u001b[0;34m\u001b[0m\u001b[0m\n\u001b[1;32m    298\u001b[0m \u001b[0;34m\u001b[0m\u001b[0m\n",
      "\u001b[0;32m~/Desktop/MyFolder/Programming/Python/Project/Project_university/Y1S2/hog-Tezigudo/hog.py\u001b[0m in \u001b[0;36mavg\u001b[0;34m(*args)\u001b[0m\n\u001b[1;32m    260\u001b[0m \u001b[0;34m\u001b[0m\u001b[0m\n\u001b[1;32m    261\u001b[0m     \u001b[0;32mdef\u001b[0m \u001b[0mavg\u001b[0m\u001b[0;34m(\u001b[0m\u001b[0;34m*\u001b[0m\u001b[0margs\u001b[0m\u001b[0;34m)\u001b[0m\u001b[0;34m:\u001b[0m\u001b[0;34m\u001b[0m\u001b[0;34m\u001b[0m\u001b[0m\n\u001b[0;32m--> 262\u001b[0;31m         \u001b[0mtotal\u001b[0m \u001b[0;34m=\u001b[0m \u001b[0msum\u001b[0m\u001b[0;34m(\u001b[0m\u001b[0moriginal_function\u001b[0m\u001b[0;34m(\u001b[0m\u001b[0;34m*\u001b[0m\u001b[0margs\u001b[0m\u001b[0;34m)\u001b[0m \u001b[0;32mfor\u001b[0m \u001b[0m_\u001b[0m \u001b[0;32min\u001b[0m \u001b[0mrange\u001b[0m\u001b[0;34m(\u001b[0m\u001b[0mtrials_count\u001b[0m\u001b[0;34m)\u001b[0m\u001b[0;34m)\u001b[0m\u001b[0;34m\u001b[0m\u001b[0;34m\u001b[0m\u001b[0m\n\u001b[0m\u001b[1;32m    263\u001b[0m         \u001b[0;32mreturn\u001b[0m \u001b[0mtotal\u001b[0m \u001b[0;34m/\u001b[0m \u001b[0mtrials_count\u001b[0m\u001b[0;34m\u001b[0m\u001b[0;34m\u001b[0m\u001b[0m\n\u001b[1;32m    264\u001b[0m \u001b[0;34m\u001b[0m\u001b[0m\n",
      "\u001b[0;32m~/Desktop/MyFolder/Programming/Python/Project/Project_university/Y1S2/hog-Tezigudo/hog.py\u001b[0m in \u001b[0;36m<genexpr>\u001b[0;34m(.0)\u001b[0m\n\u001b[1;32m    260\u001b[0m \u001b[0;34m\u001b[0m\u001b[0m\n\u001b[1;32m    261\u001b[0m     \u001b[0;32mdef\u001b[0m \u001b[0mavg\u001b[0m\u001b[0;34m(\u001b[0m\u001b[0;34m*\u001b[0m\u001b[0margs\u001b[0m\u001b[0;34m)\u001b[0m\u001b[0;34m:\u001b[0m\u001b[0;34m\u001b[0m\u001b[0;34m\u001b[0m\u001b[0m\n\u001b[0;32m--> 262\u001b[0;31m         \u001b[0mtotal\u001b[0m \u001b[0;34m=\u001b[0m \u001b[0msum\u001b[0m\u001b[0;34m(\u001b[0m\u001b[0moriginal_function\u001b[0m\u001b[0;34m(\u001b[0m\u001b[0;34m*\u001b[0m\u001b[0margs\u001b[0m\u001b[0;34m)\u001b[0m \u001b[0;32mfor\u001b[0m \u001b[0m_\u001b[0m \u001b[0;32min\u001b[0m \u001b[0mrange\u001b[0m\u001b[0;34m(\u001b[0m\u001b[0mtrials_count\u001b[0m\u001b[0;34m)\u001b[0m\u001b[0;34m)\u001b[0m\u001b[0;34m\u001b[0m\u001b[0;34m\u001b[0m\u001b[0m\n\u001b[0m\u001b[1;32m    263\u001b[0m         \u001b[0;32mreturn\u001b[0m \u001b[0mtotal\u001b[0m \u001b[0;34m/\u001b[0m \u001b[0mtrials_count\u001b[0m\u001b[0;34m\u001b[0m\u001b[0;34m\u001b[0m\u001b[0m\n\u001b[1;32m    264\u001b[0m \u001b[0;34m\u001b[0m\u001b[0m\n",
      "\u001b[0;32m~/Desktop/MyFolder/Programming/Python/Project/Project_university/Y1S2/hog-Tezigudo/hog.py\u001b[0m in \u001b[0;36mwinner\u001b[0;34m(strategy0, strategy1)\u001b[0m\n\u001b[1;32m    286\u001b[0m \u001b[0;32mdef\u001b[0m \u001b[0mwinner\u001b[0m\u001b[0;34m(\u001b[0m\u001b[0mstrategy0\u001b[0m\u001b[0;34m,\u001b[0m \u001b[0mstrategy1\u001b[0m\u001b[0;34m)\u001b[0m\u001b[0;34m:\u001b[0m\u001b[0;34m\u001b[0m\u001b[0;34m\u001b[0m\u001b[0m\n\u001b[1;32m    287\u001b[0m     \u001b[0;34m\"\"\"Return 0 if strategy0 wins against strategy1, and 1 otherwise.\"\"\"\u001b[0m\u001b[0;34m\u001b[0m\u001b[0;34m\u001b[0m\u001b[0m\n\u001b[0;32m--> 288\u001b[0;31m     \u001b[0mscore0\u001b[0m\u001b[0;34m,\u001b[0m \u001b[0mscore1\u001b[0m \u001b[0;34m=\u001b[0m \u001b[0mplay\u001b[0m\u001b[0;34m(\u001b[0m\u001b[0mstrategy0\u001b[0m\u001b[0;34m,\u001b[0m \u001b[0mstrategy1\u001b[0m\u001b[0;34m)\u001b[0m\u001b[0;34m\u001b[0m\u001b[0;34m\u001b[0m\u001b[0m\n\u001b[0m\u001b[1;32m    289\u001b[0m     \u001b[0;32mreturn\u001b[0m \u001b[0;36m0\u001b[0m \u001b[0;32mif\u001b[0m \u001b[0mscore0\u001b[0m \u001b[0;34m>\u001b[0m \u001b[0mscore1\u001b[0m \u001b[0;32melse\u001b[0m \u001b[0;36m1\u001b[0m\u001b[0;34m\u001b[0m\u001b[0;34m\u001b[0m\u001b[0m\n\u001b[1;32m    290\u001b[0m \u001b[0;34m\u001b[0m\u001b[0m\n",
      "\u001b[0;32m~/Desktop/MyFolder/Programming/Python/Project/Project_university/Y1S2/hog-Tezigudo/hog.py\u001b[0m in \u001b[0;36mplay\u001b[0;34m(strategy0, strategy1, score0, score1, dice, goal, say)\u001b[0m\n\u001b[1;32m    121\u001b[0m \u001b[0;34m\u001b[0m\u001b[0m\n\u001b[1;32m    122\u001b[0m         \u001b[0;32mif\u001b[0m \u001b[0;32mnot\u001b[0m \u001b[0mwho\u001b[0m\u001b[0;34m:\u001b[0m\u001b[0;34m\u001b[0m\u001b[0;34m\u001b[0m\u001b[0m\n\u001b[0;32m--> 123\u001b[0;31m             \u001b[0mscore0\u001b[0m \u001b[0;34m+=\u001b[0m \u001b[0mtake_turn\u001b[0m\u001b[0;34m(\u001b[0m\u001b[0mstrategy0\u001b[0m\u001b[0;34m(\u001b[0m\u001b[0mscore0\u001b[0m\u001b[0;34m,\u001b[0m \u001b[0mscore1\u001b[0m\u001b[0;34m)\u001b[0m\u001b[0;34m,\u001b[0m \u001b[0mscore1\u001b[0m\u001b[0;34m,\u001b[0m \u001b[0mdice\u001b[0m\u001b[0;34m,\u001b[0m \u001b[0mgoal\u001b[0m\u001b[0;34m)\u001b[0m\u001b[0;34m\u001b[0m\u001b[0;34m\u001b[0m\u001b[0m\n\u001b[0m\u001b[1;32m    124\u001b[0m         \u001b[0;32melse\u001b[0m\u001b[0;34m:\u001b[0m\u001b[0;34m\u001b[0m\u001b[0;34m\u001b[0m\u001b[0m\n\u001b[1;32m    125\u001b[0m             \u001b[0mscore1\u001b[0m \u001b[0;34m+=\u001b[0m \u001b[0mtake_turn\u001b[0m\u001b[0;34m(\u001b[0m\u001b[0mstrategy1\u001b[0m\u001b[0;34m(\u001b[0m\u001b[0mscore1\u001b[0m\u001b[0;34m,\u001b[0m \u001b[0mscore0\u001b[0m\u001b[0;34m)\u001b[0m\u001b[0;34m,\u001b[0m \u001b[0mscore0\u001b[0m\u001b[0;34m,\u001b[0m \u001b[0mdice\u001b[0m\u001b[0;34m,\u001b[0m \u001b[0mgoal\u001b[0m\u001b[0;34m)\u001b[0m\u001b[0;34m\u001b[0m\u001b[0;34m\u001b[0m\u001b[0m\n",
      "\u001b[0;32m~/Desktop/MyFolder/Programming/Python/Project/Project_university/Y1S2/hog-Tezigudo/hog.py\u001b[0m in \u001b[0;36mtake_turn\u001b[0;34m(num_rolls, opponent_score, dice, goal)\u001b[0m\n\u001b[1;32m     52\u001b[0m     \"\"\"\n\u001b[1;32m     53\u001b[0m     \u001b[0;31m# Leave these assert statements here; they help check for errors.\u001b[0m\u001b[0;34m\u001b[0m\u001b[0;34m\u001b[0m\u001b[0m\n\u001b[0;32m---> 54\u001b[0;31m     \u001b[0;32massert\u001b[0m \u001b[0misinstance\u001b[0m\u001b[0;34m(\u001b[0m\u001b[0mnum_rolls\u001b[0m\u001b[0;34m,\u001b[0m \u001b[0mint\u001b[0m\u001b[0;34m)\u001b[0m\u001b[0;34m,\u001b[0m \u001b[0;34m'num_rolls must be an integer.'\u001b[0m\u001b[0;34m\u001b[0m\u001b[0;34m\u001b[0m\u001b[0m\n\u001b[0m\u001b[1;32m     55\u001b[0m     \u001b[0;32massert\u001b[0m \u001b[0mnum_rolls\u001b[0m \u001b[0;34m>=\u001b[0m \u001b[0;36m0\u001b[0m\u001b[0;34m,\u001b[0m \u001b[0;34m'Cannot roll a negative number of dice in take_turn.'\u001b[0m\u001b[0;34m\u001b[0m\u001b[0;34m\u001b[0m\u001b[0m\n\u001b[1;32m     56\u001b[0m     \u001b[0;32massert\u001b[0m \u001b[0mnum_rolls\u001b[0m \u001b[0;34m<=\u001b[0m \u001b[0;36m10\u001b[0m\u001b[0;34m,\u001b[0m \u001b[0;34m'Cannot roll more than 10 dice.'\u001b[0m\u001b[0;34m\u001b[0m\u001b[0;34m\u001b[0m\u001b[0m\n",
      "\u001b[0;31mAssertionError\u001b[0m: num_rolls must be an integer."
     ]
    }
   ],
   "source": [
    "from hog import *"
   ]
  },
  {
   "cell_type": "code",
   "execution_count": null,
   "metadata": {},
   "outputs": [],
   "source": [
    "def play(strategy0, strategy1, score0=0, score1=0, dice=six_sided,\n",
    "         goal=GOAL_SCORE, say=silence):\n",
    "    \"\"\"Simulate a game and return the final scores of both players, with Player\n",
    "    0's score first, and Player 1's score second.\n",
    "\n",
    "    A strategy is a function that takes two total scores as arguments (the\n",
    "    current player's score, and the opponent's score), and returns a number of\n",
    "    dice that the current player will roll this turn.\n",
    "\n",
    "    strategy0:  The strategy function for Player 0, who plays first.\n",
    "    strategy1:  The strategy function for Player 1, who plays second.\n",
    "    score0:     Starting score for Player 0\n",
    "    score1:     Starting score for Player 1\n",
    "    dice:       A function of zero arguments that simulates a dice roll.\n",
    "    goal:       The game ends and someone wins when this score is reached.\n",
    "    say:        The commentary function to call at the end of the first turn.\n",
    "    \"\"\"\n",
    "    who = 0  # Who is about to take a turn, 0 (first) or 1 (second)\n",
    "\n",
    "     while score0 < goal and score1 < goal:\n",
    "\n",
    "          if who == 0:\n",
    "               score0 += take_turn(....)\n",
    "               if not more_boar(...):\n",
    "                    who = next_player(who)\n",
    "          else: # who is 1\n",
    "               score1 += take_turn(blablabla)\n",
    "               if not more_boar(....):\n",
    "                    who = next_player(....)\n",
    "\n",
    "\n"
   ]
  }
 ],
 "metadata": {
  "interpreter": {
   "hash": "aee8b7b246df8f9039afb4144a1f6fd8d2ca17a180786b69acc140d282b71a49"
  },
  "kernelspec": {
   "display_name": "Python 3.10.2 64-bit",
   "language": "python",
   "name": "python3"
  },
  "language_info": {
   "codemirror_mode": {
    "name": "ipython",
    "version": 3
   },
   "file_extension": ".py",
   "mimetype": "text/x-python",
   "name": "python",
   "nbconvert_exporter": "python",
   "pygments_lexer": "ipython3",
   "version": "3.10.2"
  },
  "orig_nbformat": 4
 },
 "nbformat": 4,
 "nbformat_minor": 2
}
